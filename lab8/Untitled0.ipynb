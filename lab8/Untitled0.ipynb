{
 "metadata": {
  "name": "Untitled0"
 },
 "nbformat": 3,
 "nbformat_minor": 0,
 "worksheets": [
  {
   "cells": [
    {
     "cell_type": "code",
     "collapsed": false,
     "input": [
      "import numpy as np"
     ],
     "language": "python",
     "metadata": {},
     "outputs": [],
     "prompt_number": 1
    },
    {
     "cell_type": "code",
     "collapsed": false,
     "input": [
      "a = np.random.rand(1000,100)\n",
      "print a.shape"
     ],
     "language": "python",
     "metadata": {},
     "outputs": [
      {
       "output_type": "stream",
       "stream": "stdout",
       "text": [
        "(1000, 100)\n"
       ]
      }
     ],
     "prompt_number": 4
    },
    {
     "cell_type": "code",
     "collapsed": false,
     "input": [
      "N,D = a.shape"
     ],
     "language": "python",
     "metadata": {},
     "outputs": [],
     "prompt_number": 6
    },
    {
     "cell_type": "code",
     "collapsed": false,
     "input": [
      "N,D"
     ],
     "language": "python",
     "metadata": {},
     "outputs": [
      {
       "output_type": "pyout",
       "prompt_number": 7,
       "text": [
        "(1000, 100)"
       ]
      }
     ],
     "prompt_number": 7
    },
    {
     "cell_type": "code",
     "collapsed": false,
     "input": [
      "a = range(10)\n",
      "b = a[:]\n",
      "a[3] = 100\n",
      "print b"
     ],
     "language": "python",
     "metadata": {},
     "outputs": [
      {
       "output_type": "stream",
       "stream": "stdout",
       "text": [
        "[0, 1, 2, 3, 4, 5, 6, 7, 8, 9]\n"
       ]
      }
     ],
     "prompt_number": 9
    },
    {
     "cell_type": "code",
     "collapsed": false,
     "input": [
      "a = np.arange(10)\n",
      "b = a[:]\n",
      "a[3] = 100\n",
      "print b="
     ],
     "language": "python",
     "metadata": {},
     "outputs": [
      {
       "output_type": "stream",
       "stream": "stdout",
       "text": [
        "[  0   1   2 100   4   5   6   7   8   9]\n"
       ]
      }
     ],
     "prompt_number": 11
    },
    {
     "cell_type": "code",
     "collapsed": false,
     "input": [
      "a = np.arange(10)\n",
      "print a\n",
      "b = np.arange(10) + 10\n",
      "print a+b"
     ],
     "language": "python",
     "metadata": {},
     "outputs": [
      {
       "output_type": "stream",
       "stream": "stdout",
       "text": [
        "[0 1 2 3 4 5 6 7 8 9]\n",
        "[10 12 14 16 18 20 22 24 26 28]\n"
       ]
      }
     ],
     "prompt_number": 16
    },
    {
     "cell_type": "code",
     "collapsed": false,
     "input": [
      "loc = np.array([[102.0, 203.0],[132.0,193.0],[45.0,155.0],[57.0,173.0]])"
     ],
     "language": "python",
     "metadata": {},
     "outputs": [],
     "prompt_number": 18
    },
    {
     "cell_type": "code",
     "collapsed": false,
     "input": [
      "sel = (loc < 100)\n",
      "print sel\n",
      "print loc[sel]\n",
      "print np.where(sel)"
     ],
     "language": "python",
     "metadata": {},
     "outputs": [
      {
       "output_type": "stream",
       "stream": "stdout",
       "text": [
        "[[False False]\n",
        " [False False]\n",
        " [ True False]\n",
        " [ True False]]\n",
        "[ 45.  57.]\n",
        "(array([2, 3]), array([0, 0]))\n"
       ]
      }
     ],
     "prompt_number": 27
    },
    {
     "cell_type": "code",
     "collapsed": false,
     "input": [
      "sq = loc**2\n",
      "print sq"
     ],
     "language": "python",
     "metadata": {},
     "outputs": [
      {
       "output_type": "stream",
       "stream": "stdout",
       "text": [
        "[[ 10404.  41209.]\n",
        " [ 17424.  37249.]\n",
        " [  2025.  24025.]\n",
        " [  3249.  29929.]]\n"
       ]
      }
     ],
     "prompt_number": 28
    },
    {
     "cell_type": "code",
     "collapsed": false,
     "input": [
      "?np.argmax"
     ],
     "language": "python",
     "metadata": {},
     "outputs": [],
     "prompt_number": 29
    },
    {
     "cell_type": "code",
     "collapsed": false,
     "input": [
      "locations = np.array([[-15.,-4],[-3.,4.],[-10.,16],[8.,4.]])\n",
      "cities = ['NYC', 'Boston', 'LA', 'San']\n",
      "print 'data:'\n",
      "print '\\n'.join('{} {}'.format(x,y) for x,y in zip(cities, locations))\n",
      "myloc = np.array([10,-4])\n",
      "print 'my location:', myloc"
     ],
     "language": "python",
     "metadata": {},
     "outputs": [
      {
       "output_type": "stream",
       "stream": "stdout",
       "text": [
        "data:\n",
        "NYC [-15.  -4.]\n",
        "Boston [-3.  4.]\n",
        "LA [-10.  16.]\n",
        "San [ 8.  4.]\n",
        "my location: [10 -4]\n"
       ]
      }
     ],
     "prompt_number": 32
    },
    {
     "cell_type": "code",
     "collapsed": false,
     "input": [
      "np.random.seed(12345)\n",
      "f1 = np.random.rand(2,3,4)\n",
      "print f1"
     ],
     "language": "python",
     "metadata": {},
     "outputs": [
      {
       "output_type": "stream",
       "stream": "stdout",
       "text": [
        "[[[ 0.92961609  0.31637555  0.18391881  0.20456028]\n",
        "  [ 0.56772503  0.5955447   0.96451452  0.6531771 ]\n",
        "  [ 0.74890664  0.65356987  0.74771481  0.96130674]]\n",
        "\n",
        " [[ 0.0083883   0.10644438  0.29870371  0.65641118]\n",
        "  [ 0.80981255  0.87217591  0.9646476   0.72368535]\n",
        "  [ 0.64247533  0.71745362  0.46759901  0.32558468]]]\n"
       ]
      }
     ],
     "prompt_number": 33
    },
    {
     "cell_type": "code",
     "collapsed": false,
     "input": [],
     "language": "python",
     "metadata": {},
     "outputs": []
    }
   ],
   "metadata": {}
  }
 ]
}