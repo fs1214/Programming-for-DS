{
 "metadata": {
  "name": ""
 },
 "nbformat": 3,
 "nbformat_minor": 0,
 "worksheets": [
  {
   "cells": [
    {
     "cell_type": "code",
     "collapsed": false,
     "input": [
      "import numpy as np\n",
      "np.sqrt(3)\n",
      "type(np.sqrt)\n",
      "import numpy.random"
     ],
     "language": "python",
     "metadata": {},
     "outputs": [],
     "prompt_number": 5
    },
    {
     "cell_type": "code",
     "collapsed": false,
     "input": [
      "numpy.random.randn(10)"
     ],
     "language": "python",
     "metadata": {},
     "outputs": [
      {
       "metadata": {},
       "output_type": "pyout",
       "prompt_number": 10,
       "text": [
        "array([-0.21713934,  0.17981201,  1.0409374 , -0.20387906, -1.87829253,\n",
        "       -0.9403207 ,  1.16025271, -0.20779768,  1.37342039, -0.94468475])"
       ]
      }
     ],
     "prompt_number": 10
    },
    {
     "cell_type": "code",
     "collapsed": false,
     "input": [
      "np.__file__"
     ],
     "language": "python",
     "metadata": {},
     "outputs": [
      {
       "metadata": {},
       "output_type": "pyout",
       "prompt_number": 12,
       "text": [
        "'/usr/lib/python2.7/dist-packages/numpy/__init__.pyc'"
       ]
      }
     ],
     "prompt_number": 12
    },
    {
     "cell_type": "code",
     "collapsed": false,
     "input": [
      "from utils import *\n",
      "x"
     ],
     "language": "python",
     "metadata": {},
     "outputs": [
      {
       "metadata": {},
       "output_type": "pyout",
       "prompt_number": 17,
       "text": [
        "{'and': 'of', 'center': 'point', 'microscope': 'image', 'square': 'root'}"
       ]
      }
     ],
     "prompt_number": 17
    },
    {
     "cell_type": "code",
     "collapsed": false,
     "input": [
      "m = [[0]*5]*5\n",
      "m[2][3] = 1\n",
      "m"
     ],
     "language": "python",
     "metadata": {},
     "outputs": [
      {
       "metadata": {},
       "output_type": "pyout",
       "prompt_number": 22,
       "text": [
        "[[0, 0, 0, 1, 0],\n",
        " [0, 0, 0, 1, 0],\n",
        " [0, 0, 0, 1, 0],\n",
        " [0, 0, 0, 1, 0],\n",
        " [0, 0, 0, 1, 0]]"
       ]
      }
     ],
     "prompt_number": 22
    },
    {
     "cell_type": "code",
     "collapsed": false,
     "input": [
      "m=[[0]*5 for i in range(5)]\n",
      "m[2][3] =1\n",
      "m"
     ],
     "language": "python",
     "metadata": {},
     "outputs": [
      {
       "metadata": {},
       "output_type": "pyout",
       "prompt_number": 25,
       "text": [
        "[[0, 0, 0, 0, 0],\n",
        " [0, 0, 0, 0, 0],\n",
        " [0, 0, 0, 1, 0],\n",
        " [0, 0, 0, 0, 0],\n",
        " [0, 0, 0, 0, 0]]"
       ]
      }
     ],
     "prompt_number": 25
    },
    {
     "cell_type": "code",
     "collapsed": false,
     "input": [
      "a={0:0}\n",
      "m=[[a]*5 for i in range(5)]\n",
      "m"
     ],
     "language": "python",
     "metadata": {},
     "outputs": [
      {
       "metadata": {},
       "output_type": "pyout",
       "prompt_number": 27,
       "text": [
        "[[{0: 0}, {0: 0}, {0: 0}, {0: 0}, {0: 0}],\n",
        " [{0: 0}, {0: 0}, {0: 0}, {0: 0}, {0: 0}],\n",
        " [{0: 0}, {0: 0}, {0: 0}, {0: 0}, {0: 0}],\n",
        " [{0: 0}, {0: 0}, {0: 0}, {0: 0}, {0: 0}],\n",
        " [{0: 0}, {0: 0}, {0: 0}, {0: 0}, {0: 0}]]"
       ]
      }
     ],
     "prompt_number": 27
    },
    {
     "cell_type": "code",
     "collapsed": false,
     "input": [
      "m[0][3]['k'] = 'v'\n",
      "m\n",
      "m"
     ],
     "language": "python",
     "metadata": {},
     "outputs": [
      {
       "metadata": {},
       "output_type": "pyout",
       "prompt_number": 31,
       "text": [
        "[[{0: 0, 'k': 'v'},\n",
        "  {0: 0, 'k': 'v'},\n",
        "  {0: 0, 'k': 'v'},\n",
        "  {0: 0, 'k': 'v'},\n",
        "  {0: 0, 'k': 'v'}],\n",
        " [{0: 0, 'k': 'v'},\n",
        "  {0: 0, 'k': 'v'},\n",
        "  {0: 0, 'k': 'v'},\n",
        "  {0: 0, 'k': 'v'},\n",
        "  {0: 0, 'k': 'v'}],\n",
        " [{0: 0, 'k': 'v'},\n",
        "  {0: 0, 'k': 'v'},\n",
        "  {0: 0, 'k': 'v'},\n",
        "  {0: 0, 'k': 'v'},\n",
        "  {0: 0, 'k': 'v'}],\n",
        " [{0: 0, 'k': 'v'},\n",
        "  {0: 0, 'k': 'v'},\n",
        "  {0: 0, 'k': 'v'},\n",
        "  {0: 0, 'k': 'v'},\n",
        "  {0: 0, 'k': 'v'}],\n",
        " [{0: 0, 'k': 'v'},\n",
        "  {0: 0, 'k': 'v'},\n",
        "  {0: 0, 'k': 'v'},\n",
        "  {0: 0, 'k': 'v'},\n",
        "  {0: 0, 'k': 'v'}]]"
       ]
      }
     ],
     "prompt_number": 31
    },
    {
     "cell_type": "code",
     "collapsed": false,
     "input": [
      "m=[[0]*5 for i in range(5)]"
     ],
     "language": "python",
     "metadata": {},
     "outputs": [],
     "prompt_number": 33
    },
    {
     "cell_type": "code",
     "collapsed": false,
     "input": [
      "from utils import *\n",
      "with open('text.txt','r') as fh:\n",
      "    s = fh.read()\n",
      "print s[:500]"
     ],
     "language": "python",
     "metadata": {},
     "outputs": [
      {
       "output_type": "stream",
       "stream": "stdout",
       "text": [
        "Photo-activated localization microscopy (PALM or fPALM)[1][2] and stochastic optical reconstruction microscopy (STORM)[3] are widefield (as opposed to point scanning techniques such as laser scanning confocal microscopy) fluorescence microscopy imaging methods that allow obtaining images with a resolution beyond the diffraction limit. The methods were proposed in 2006 in the wake of a general emergence of optical super-resolution microscopy methods, and were featured as Methods of the Year for 2\n"
       ]
      }
     ],
     "prompt_number": 3
    },
    {
     "cell_type": "code",
     "collapsed": false,
     "input": [
      "ls=s.split()\n",
      "print ls[:10]\n",
      "clean = []\n",
      "for w in ls:\n",
      "    if str.isalnum(w) :\n",
      "        clean.append(w)\n",
      "print clean[:10]\n",
      "clean = [w for w in ls if str.isalnum(w)]\n",
      "print clean[:10]"
     ],
     "language": "python",
     "metadata": {},
     "outputs": [
      {
       "output_type": "stream",
       "stream": "stdout",
       "text": [
        "['Photo-activated', 'localization', 'microscopy', '(PALM', 'or', 'fPALM)[1][2]', 'and', 'stochastic', 'optical', 'reconstruction']\n",
        "['localization', 'microscopy', 'or', 'and', 'stochastic', 'optical', 'reconstruction', 'microscopy', 'are', 'widefield']\n",
        "['localization', 'microscopy', 'or', 'and', 'stochastic', 'optical', 'reconstruction', 'microscopy', 'are', 'widefield']\n"
       ]
      }
     ],
     "prompt_number": 4
    },
    {
     "cell_type": "code",
     "collapsed": false,
     "input": [
      "lengths = [len(w) for w in clean]"
     ],
     "language": "python",
     "metadata": {},
     "outputs": [],
     "prompt_number": 5
    },
    {
     "cell_type": "code",
     "collapsed": false,
     "input": [
      "print len(ls)\n",
      "print len(clean)\n",
      "print len(list(set(clean)))\n",
      "longwords = [w for w in clean if len(w) > 3]\n",
      "print len(longwords)"
     ],
     "language": "python",
     "metadata": {},
     "outputs": [
      {
       "output_type": "stream",
       "stream": "stdout",
       "text": [
        "804\n",
        "716\n",
        "331\n",
        "417\n"
       ]
      }
     ],
     "prompt_number": 6
    },
    {
     "cell_type": "code",
     "collapsed": false,
     "input": [
      "for i,w in enumerate(clean[:10]):\n",
      "    print i,w\n",
      "[w for i,w in enumerate(clean) if w == clean[i-1]]"
     ],
     "language": "python",
     "metadata": {},
     "outputs": [
      {
       "output_type": "stream",
       "stream": "stdout",
       "text": [
        "0 localization\n",
        "1 microscopy\n",
        "2 or\n",
        "3 and\n",
        "4 stochastic\n",
        "5 optical\n",
        "6 reconstruction\n",
        "7 microscopy\n",
        "8 are\n",
        "9 widefield\n"
       ]
      },
      {
       "metadata": {},
       "output_type": "pyout",
       "prompt_number": 14,
       "text": [
        "['the']"
       ]
      }
     ],
     "prompt_number": 14
    },
    {
     "cell_type": "code",
     "collapsed": false,
     "input": [
      "wc = {}\n",
      "for w in clean:\n",
      "    w = w.lower()\n",
      "    if w in wc:\n",
      "        wc[w] += 1\n",
      "    else:\n",
      "        wc[w] = 1\n",
      "#d['the']\n",
      "wc"
     ],
     "language": "python",
     "metadata": {},
     "outputs": [
      {
       "metadata": {},
       "output_type": "pyout",
       "prompt_number": 16,
       "text": [
        "{'1': 1,\n",
        " '10': 1,\n",
        " '150': 1,\n",
        " '2': 1,\n",
        " '2006': 1,\n",
        " '2008': 1,\n",
        " '3': 1,\n",
        " '3d': 1,\n",
        " '4': 1,\n",
        " '400': 2,\n",
        " '5': 1,\n",
        " '6': 1,\n",
        " '7': 1,\n",
        " 'a': 26,\n",
        " 'ability': 1,\n",
        " 'absorption': 1,\n",
        " 'according': 1,\n",
        " 'accumulation': 1,\n",
        " 'acquisition': 1,\n",
        " 'active': 1,\n",
        " 'airy': 1,\n",
        " 'allow': 2,\n",
        " 'allowing': 1,\n",
        " 'allows': 1,\n",
        " 'although': 1,\n",
        " 'an': 3,\n",
        " 'and': 18,\n",
        " 'antibodies': 1,\n",
        " 'aperture': 2,\n",
        " 'application': 1,\n",
        " 'applications': 1,\n",
        " 'approach': 2,\n",
        " 'approaches': 1,\n",
        " 'approaching': 1,\n",
        " 'approximation': 1,\n",
        " 'are': 7,\n",
        " 'arising': 1,\n",
        " 'around': 1,\n",
        " 'as': 8,\n",
        " 'at': 2,\n",
        " 'avoid': 1,\n",
        " 'axial': 2,\n",
        " 'back': 1,\n",
        " 'background': 1,\n",
        " 'basis': 1,\n",
        " 'be': 5,\n",
        " 'been': 1,\n",
        " 'best': 1,\n",
        " 'better': 1,\n",
        " 'between': 2,\n",
        " 'beyond': 1,\n",
        " 'biophysical': 1,\n",
        " 'both': 2,\n",
        " 'by': 9,\n",
        " 'can': 5,\n",
        " 'cell': 2,\n",
        " 'center': 2,\n",
        " 'choice': 1,\n",
        " 'closely': 2,\n",
        " 'collected': 1,\n",
        " 'collecting': 1,\n",
        " 'coming': 1,\n",
        " 'compatible': 1,\n",
        " 'concentrated': 1,\n",
        " 'concomitant': 1,\n",
        " 'confocal': 1,\n",
        " 'contents': 1,\n",
        " 'contrast': 2,\n",
        " 'controllable': 1,\n",
        " 'conventional': 1,\n",
        " 'corresponding': 1,\n",
        " 'current': 1,\n",
        " 'cyanine': 1,\n",
        " 'd': 1,\n",
        " 'dark': 1,\n",
        " 'degrade': 1,\n",
        " 'dense': 1,\n",
        " 'denser': 1,\n",
        " 'depends': 1,\n",
        " 'developed': 1,\n",
        " 'development': 2,\n",
        " 'differences': 1,\n",
        " 'diffraction': 5,\n",
        " 'dimension': 3,\n",
        " 'dimensional': 1,\n",
        " 'discovery': 1,\n",
        " 'disk': 1,\n",
        " 'displaying': 1,\n",
        " 'distance': 1,\n",
        " 'distinguish': 1,\n",
        " 'dye': 1,\n",
        " 'dyes': 1,\n",
        " 'each': 1,\n",
        " 'easy': 1,\n",
        " 'either': 1,\n",
        " 'emergence': 1,\n",
        " 'emission': 4,\n",
        " 'emitted': 3,\n",
        " 'emitter': 1,\n",
        " 'emitters': 1,\n",
        " 'engineering': 1,\n",
        " 'enough': 1,\n",
        " 'entities': 1,\n",
        " 'environment': 1,\n",
        " 'error': 2,\n",
        " 'even': 1,\n",
        " 'eventually': 1,\n",
        " 'excitation': 2,\n",
        " 'excited': 2,\n",
        " 'exploited': 2,\n",
        " 'extended': 1,\n",
        " 'extension': 1,\n",
        " 'external': 1,\n",
        " 'eye': 1,\n",
        " 'faster': 1,\n",
        " 'featured': 1,\n",
        " 'first': 1,\n",
        " 'fitting': 1,\n",
        " 'fluorescence': 4,\n",
        " 'fluorescent': 10,\n",
        " 'fluorophore': 2,\n",
        " 'fluorophores': 6,\n",
        " 'for': 2,\n",
        " 'forms': 1,\n",
        " 'found': 1,\n",
        " 'from': 6,\n",
        " 'function': 1,\n",
        " 'fundamental': 1,\n",
        " 'fused': 1,\n",
        " 'gaussian': 1,\n",
        " 'general': 1,\n",
        " 'genes': 1,\n",
        " 'genetically': 1,\n",
        " 'geometrical': 1,\n",
        " 'given': 1,\n",
        " 'growing': 1,\n",
        " 'have': 2,\n",
        " 'having': 1,\n",
        " 'identification': 2,\n",
        " 'identified': 1,\n",
        " 'identify': 1,\n",
        " 'if': 4,\n",
        " 'image': 3,\n",
        " 'imaged': 1,\n",
        " 'images': 1,\n",
        " 'imaging': 5,\n",
        " 'immunohistochemistry': 1,\n",
        " 'in': 17,\n",
        " 'individual': 4,\n",
        " 'induced': 1,\n",
        " 'interferometric': 1,\n",
        " 'inverse': 1,\n",
        " 'is': 18,\n",
        " 'it': 4,\n",
        " 'its': 2,\n",
        " 'known': 1,\n",
        " 'largely': 1,\n",
        " 'laser': 1,\n",
        " 'lateral': 1,\n",
        " 'light': 2,\n",
        " 'limit': 1,\n",
        " 'limited': 3,\n",
        " 'linked': 1,\n",
        " 'links': 1,\n",
        " 'live': 2,\n",
        " 'localization': 4,\n",
        " 'localizing': 1,\n",
        " 'low': 1,\n",
        " 'made': 3,\n",
        " 'many': 2,\n",
        " 'method': 1,\n",
        " 'methods': 4,\n",
        " 'microscope': 2,\n",
        " 'microscopy': 5,\n",
        " 'minimal': 1,\n",
        " 'molecular': 1,\n",
        " 'molecule': 3,\n",
        " 'molecules': 5,\n",
        " 'more': 1,\n",
        " 'most': 1,\n",
        " 'much': 1,\n",
        " 'multicolor': 2,\n",
        " 'multimedia': 1,\n",
        " 'multiple': 1,\n",
        " 'mutants': 1,\n",
        " 'na': 1,\n",
        " 'naked': 1,\n",
        " 'nature': 1,\n",
        " 'near': 1,\n",
        " 'neighboring': 3,\n",
        " 'new': 1,\n",
        " 'nm': 3,\n",
        " 'number': 3,\n",
        " 'numerical': 2,\n",
        " 'objective': 1,\n",
        " 'objectives': 1,\n",
        " 'observed': 2,\n",
        " 'obtain': 1,\n",
        " 'obtained': 1,\n",
        " 'obtaining': 1,\n",
        " 'occurring': 1,\n",
        " 'of': 41,\n",
        " 'on': 3,\n",
        " 'once': 1,\n",
        " 'one': 1,\n",
        " 'only': 1,\n",
        " 'opposed': 1,\n",
        " 'opposing': 1,\n",
        " 'optical': 2,\n",
        " 'or': 3,\n",
        " 'organic': 1,\n",
        " 'original': 1,\n",
        " 'originally': 1,\n",
        " 'other': 1,\n",
        " 'others': 1,\n",
        " 'overcome': 1,\n",
        " 'pair': 1,\n",
        " 'paired': 1,\n",
        " 'palm': 3,\n",
        " 'particular': 2,\n",
        " 'performed': 1,\n",
        " 'phenomenon': 1,\n",
        " 'photobleaching': 1,\n",
        " 'photochromism': 1,\n",
        " 'photons': 5,\n",
        " 'photophysical': 1,\n",
        " 'plane': 1,\n",
        " 'point': 7,\n",
        " 'position': 1,\n",
        " 'possible': 1,\n",
        " 'practical': 1,\n",
        " 'present': 1,\n",
        " 'principle': 1,\n",
        " 'profile': 1,\n",
        " 'promising': 1,\n",
        " 'prompted': 1,\n",
        " 'proposed': 1,\n",
        " 'proteins': 2,\n",
        " 'quantified': 1,\n",
        " 'reactivate': 1,\n",
        " 'reconstruction': 1,\n",
        " 'recovered': 1,\n",
        " 'references': 1,\n",
        " 'related': 1,\n",
        " 'resolution': 3,\n",
        " 'resolving': 1,\n",
        " 'reversible': 1,\n",
        " 'root': 1,\n",
        " 'same': 1,\n",
        " 'sample': 1,\n",
        " 'scales': 1,\n",
        " 'scanning': 2,\n",
        " 'section': 1,\n",
        " 'selected': 1,\n",
        " 'selectively': 1,\n",
        " 'separating': 1,\n",
        " 'serves': 1,\n",
        " 'set': 1,\n",
        " 'sharing': 1,\n",
        " 'shortest': 1,\n",
        " 'significant': 1,\n",
        " 'single': 1,\n",
        " 'smaller': 1,\n",
        " 'some': 1,\n",
        " 'source': 2,\n",
        " 'sources': 1,\n",
        " 'spaced': 2,\n",
        " 'sparse': 1,\n",
        " 'species': 1,\n",
        " 'specific': 2,\n",
        " 'spontaneously': 1,\n",
        " 'spot': 2,\n",
        " 'spread': 2,\n",
        " 'square': 1,\n",
        " 'staining': 1,\n",
        " 'stating': 1,\n",
        " 'steps': 1,\n",
        " 'stochastic': 1,\n",
        " 'stochastically': 1,\n",
        " 'storm': 4,\n",
        " 'subsets': 1,\n",
        " 'such': 2,\n",
        " 'sufficiently': 1,\n",
        " 'switching': 1,\n",
        " 'targeted': 1,\n",
        " 'technical': 1,\n",
        " 'techniques': 2,\n",
        " 'than': 1,\n",
        " 'that': 4,\n",
        " 'the': 71,\n",
        " 'their': 3,\n",
        " 'then': 2,\n",
        " 'theoretical': 1,\n",
        " 'third': 1,\n",
        " 'this': 2,\n",
        " 'those': 1,\n",
        " 'three': 1,\n",
        " 'to': 17,\n",
        " 'turning': 1,\n",
        " 'two': 9,\n",
        " 'typically': 1,\n",
        " 'ultimately': 1,\n",
        " 'under': 3,\n",
        " 'undergone': 1,\n",
        " 'underlying': 1,\n",
        " 'use': 1,\n",
        " 'used': 1,\n",
        " 'using': 3,\n",
        " 'visualized': 1,\n",
        " 'wake': 1,\n",
        " 'was': 1,\n",
        " 'wavelength': 3,\n",
        " 'were': 2,\n",
        " 'when': 1,\n",
        " 'where': 2,\n",
        " 'whereas': 1,\n",
        " 'which': 1,\n",
        " 'widefield': 1,\n",
        " 'with': 6,\n",
        " 'would': 1,\n",
        " 'year': 1}"
       ]
      }
     ],
     "prompt_number": 16
    },
    {
     "cell_type": "code",
     "collapsed": false,
     "input": [
      "hist = {}\n",
      "for k,v in wc.iteritems():\n",
      "    if v in hist:\n",
      "        hist[v]+=1\n",
      "    else:\n",
      "        hist[v] =1\n",
      "#sorted((k,v) for k,v in hist.iteritems())\n",
      "hist"
     ],
     "language": "python",
     "metadata": {},
     "outputs": [
      {
       "metadata": {},
       "output_type": "pyout",
       "prompt_number": 17,
       "text": [
        "{1: 227,\n",
        " 2: 44,\n",
        " 3: 18,\n",
        " 4: 9,\n",
        " 5: 7,\n",
        " 6: 3,\n",
        " 7: 2,\n",
        " 8: 1,\n",
        " 9: 2,\n",
        " 10: 1,\n",
        " 17: 2,\n",
        " 18: 2,\n",
        " 26: 1,\n",
        " 41: 1,\n",
        " 71: 1}"
       ]
      }
     ],
     "prompt_number": 17
    },
    {
     "cell_type": "code",
     "collapsed": false,
     "input": [
      "import matplotlib.pyplot as plt\n",
      "x = hist.keys()\n",
      "print x\n",
      "y = hist.values()\n",
      "print y\n",
      "plt.plot(x,y,'.')\n",
      "plt.ylabel('a')\n",
      "plt.show()"
     ],
     "language": "python",
     "metadata": {},
     "outputs": [
      {
       "output_type": "stream",
       "stream": "stdout",
       "text": [
        "[1, 2, 3, 4, 5, 6, 7, 8, 9, 10, 71, 17, 18, 41, 26]\n",
        "[227, 44, 18, 9, 7, 3, 2, 1, 2, 1, 1, 2, 2, 1, 1]\n"
       ]
      }
     ],
     "prompt_number": 31
    }
   ],
   "metadata": {}
  }
 ]
}