{
 "metadata": {
  "name": ""
 },
 "nbformat": 3,
 "nbformat_minor": 0,
 "worksheets": [
  {
   "cells": [
    {
     "cell_type": "code",
     "collapsed": false,
     "input": [
      "from datetime import date,timedelta\n",
      "year = input ('enter year')\n",
      "month = input ('enter month')\n",
      "day = input ('enter day')\n",
      "\n",
      "birthdate = date(year,month,day)\n",
      "print (date.today()-birthdate).days\n",
      "\n",
      "if(date.today().month>month):\n",
      "    print '{} years'.format(date.today().year-year)\n",
      "elif(date.today().month==month  & date.today().day>day):\n",
      "    print '{} years'.format(date.today().year-year)\n",
      "else:\n",
      "    print '{} years'.format(date.today().year-year-1)\n",
      "    \n",
      "if()"
     ],
     "language": "python",
     "metadata": {},
     "outputs": [
      {
       "name": "stdout",
       "output_type": "stream",
       "stream": "stdout",
       "text": [
        "enter year1993\n"
       ]
      },
      {
       "name": "stdout",
       "output_type": "stream",
       "stream": "stdout",
       "text": [
        "enter month02\n"
       ]
      },
      {
       "name": "stdout",
       "output_type": "stream",
       "stream": "stdout",
       "text": [
        "enter day01\n"
       ]
      },
      {
       "output_type": "stream",
       "stream": "stdout",
       "text": [
        "7915\n",
        "21 years\n"
       ]
      }
     ],
     "prompt_number": 7
    }
   ],
   "metadata": {}
  }
 ]
}